{
 "nbformat": 4,
 "nbformat_minor": 2,
 "metadata": {
  "language_info": {
   "name": "python",
   "pygments_lexer": "ipython3"
  }
 },
 "cells": [
  {
   "cell_type": "code",
   "execution_count": null,
   "metadata": {},
   "outputs": [],
   "source": [
    "from collections import OrderedDict\n",
    "from PyPDF2 import PdfFileWriter, PdfFileReader\n",
    "\n",
    "\n",
    "def _getFields(obj, tree=None, retval=None, fileobj=None):\n",
    "    \"\"\"\n",
    "    Extracts field data if this PDF contains interactive form fields.\n",
    "    The *tree* and *retval* parameters are for recursive use.\n",
    "\n",
    "    :param fileobj: A file object (usually a text file) to write\n",
    "        a report to on all interactive form fields found.\n",
    "    :return: A dictionary where each key is a field name, and each\n",
    "        value is a :class:`Field<PyPDF2.generic.Field>` object. By\n",
    "        default, the mapping name is used for keys.\n",
    "    :rtype: dict, or ``None`` if form data could not be located.\n",
    "    \"\"\"\n",
    "    fieldAttributes = {'/FT': 'Field Type', '/Parent': 'Parent', '/T': 'Field Name', '/TU': 'Alternate Field Name',\n",
    "                       '/TM': 'Mapping Name', '/Ff': 'Field Flags', '/V': 'Value', '/DV': 'Default Value'}\n",
    "    if retval is None:\n",
    "        retval = OrderedDict()\n",
    "        catalog = obj.trailer[\"/Root\"]\n",
    "        # get the AcroForm tree\n",
    "        if \"/AcroForm\" in catalog:\n",
    "            tree = catalog[\"/AcroForm\"]\n",
    "        else:\n",
    "            return None\n",
    "    if tree is None:\n",
    "        return retval\n",
    "\n",
    "    obj._checkKids(tree, retval, fileobj)\n",
    "    for attr in fieldAttributes:\n",
    "        if attr in tree:\n",
    "            # Tree is a field\n",
    "            obj._buildField(tree, retval, fileobj, fieldAttributes)\n",
    "            break\n",
    "\n",
    "    if \"/Fields\" in tree:\n",
    "        fields = tree[\"/Fields\"]\n",
    "        for f in fields:\n",
    "            field = f.getObject()\n",
    "            obj._buildField(field, retval, fileobj, fieldAttributes)\n",
    "\n",
    "    return retval\n",
    "\n",
    "\n",
    "def get_form_fields(infile):\n",
    "    infile = PdfFileReader(open(infile, 'rb'))\n",
    "    fields = _getFields(infile)\n",
    "    return OrderedDict((k, v.get('/V', '')) for k, v in fields.items())"
   ]
  },
  {
   "cell_type": "code",
   "execution_count": null,
   "metadata": {},
   "outputs": [],
   "source": [
    "from pprint import pprint\n",
    "\n",
    "pdf_file_name = 'forms/labor_2hprotokoll_ncov2019_d_draft.pdf'\n",
    "\n",
    "pprint(get_form_fields(pdf_file_name))"
   ]
  },
  {
   "cell_type": "code",
   "execution_count": null,
   "metadata": {},
   "outputs": [],
   "source": [
    "from pprint import pprint\n",
    "\n",
    "pdf_file_name = 'forms/ncov2019_d_optimized_draft.pdf'\n",
    "\n",
    "pprint(get_form_fields(pdf_file_name))"
   ]
  }
 ]
}
