{
 "nbformat": 4,
 "nbformat_minor": 2,
 "metadata": {
  "language_info": {
   "name": "python",
   "pygments_lexer": "ipython3"
  }
 },
 "cells": [
  {
   "cell_type": "code",
   "execution_count": null,
   "metadata": {},
   "outputs": [],
   "source": [
    "from collections import OrderedDict\n",
    "from PyPDF2 import PdfFileWriter, PdfFileReader\n",
    "from os import listdir\n",
    "from os.path import isfile, join\n",
    "from pprint import pprint\n",
    "import pandas as pd\n",
    "\n",
    "from datetime import date\n",
    "import re\n",
    "\n",
    "def _getFields(obj, tree=None, retval=None, fileobj=None):\n",
    "    \"\"\"\n",
    "    Extracts field data if this PDF contains interactive form fields.\n",
    "    The *tree* and *retval* parameters are for recursive use.\n",
    "\n",
    "    :param fileobj: A file object (usually a text file) to write\n",
    "        a report to on all interactive form fields found.\n",
    "    :return: A dictionary where each key is a field name, and each\n",
    "        value is a :class:`Field<PyPDF2.generic.Field>` object. By\n",
    "        default, the mapping name is used for keys.\n",
    "    :rtype: dict, or ``None`` if form data could not be located.\n",
    "    \"\"\"\n",
    "    fieldAttributes = {'/FT': 'Field Type', '/Parent': 'Parent', '/T': 'Field Name', '/TU': 'Alternate Field Name',\n",
    "                       '/TM': 'Mapping Name', '/Ff': 'Field Flags', '/V': 'Value', '/DV': 'Default Value'}\n",
    "    if retval is None:\n",
    "        retval = OrderedDict()\n",
    "        catalog = obj.trailer[\"/Root\"]\n",
    "        # get the AcroForm tree\n",
    "        if \"/AcroForm\" in catalog:\n",
    "            tree = catalog[\"/AcroForm\"]\n",
    "        else:\n",
    "            return None\n",
    "    if tree is None:\n",
    "        return retval\n",
    "\n",
    "    obj._checkKids(tree, retval, fileobj)\n",
    "    for attr in fieldAttributes:\n",
    "        if attr in tree:\n",
    "            # Tree is a field\n",
    "            obj._buildField(tree, retval, fileobj, fieldAttributes)\n",
    "            break\n",
    "\n",
    "    if \"/Fields\" in tree:\n",
    "        fields = tree[\"/Fields\"]\n",
    "        for f in fields:\n",
    "            field = f.getObject()\n",
    "            obj._buildField(field, retval, fileobj, fieldAttributes)\n",
    "\n",
    "    return retval\n",
    "\n",
    "\n",
    "def get_form_fields(infile):\n",
    "    infile = PdfFileReader(open(infile, 'rb'))\n",
    "    fields = _getFields(infile)\n",
    "    return OrderedDict((k, v.get('/V', '')) for k, v in fields.items())"
   ]
  },
  {
   "cell_type": "code",
   "execution_count": null,
   "metadata": {},
   "outputs": [],
   "source": [
    "def cleanAndReorderDict(oDict:OrderedDict) -> OrderedDict:\n",
    "    for key,value in oDict.items():\n",
    "        if('/True' in value):\n",
    "            value=True\n",
    "        if('/False' in value):\n",
    "            value=False\n",
    "        print(key,value)"
   ]
  },
  {
   "cell_type": "code",
   "execution_count": null,
   "metadata": {},
   "outputs": [],
   "source": [
    "def getAllForms(mypath):\n",
    "    allForms = []\n",
    "    onlyfiles = [f for f in listdir(mypath) if isfile(join(mypath, f))]\n",
    "\n",
    "    for currentFile in onlyfiles:\n",
    "        if '.pdf' in currentFile:\n",
    "            allForms.append(mypath + currentFile)\n",
    "    return allForms"
   ]
  },
  {
   "cell_type": "code",
   "execution_count": null,
   "metadata": {},
   "outputs": [],
   "source": [
    "\n",
    "def convertToDate(identifierKey:str, oDict:OrderedDict)->date:\n",
    "    pre = identifierKey + '_'\n",
    "    day = pre + 'Tag'\n",
    "    month = pre + 'Monat'\n",
    "    year = pre +'Jahr'\n",
    "\n",
    "    return date(int(oDict[year]),int(oDict[month]),int(oDict[day]))\n",
    "\n",
    "def convertToBoolean():"
   ]
  },
  {
   "cell_type": "code",
   "execution_count": null,
   "metadata": {},
   "outputs": [],
   "source": [
    "def stripLeadingSlash(val:str)->str:\n",
    "    if val[0] == '/':\n",
    "        return val[1:]\n",
    "    return val"
   ]
  },
  {
   "cell_type": "code",
   "execution_count": null,
   "metadata": {},
   "outputs": [],
   "source": [
    "def getName(name:str)->list:\n",
    "    names=[]\n",
    "    names = re.match(r\"(?:[a-zA-Z]+)\",name)\n",
    "\n",
    "    return names"
   ]
  },
  {
   "cell_type": "code",
   "execution_count": null,
   "metadata": {},
   "outputs": [],
   "source": [
    "getName('Cow, Holy')"
   ]
  },
  {
   "cell_type": "code",
   "execution_count": null,
   "metadata": {},
   "outputs": [],
   "source": [
    "meldungPath='../test-forms/covid19/'\n",
    "formsMeldungList = getAllForms(meldungPath)\n",
    "meldungDictList=[]\n",
    "for meldForm in formsMeldungList:\n",
    "    meldDict=get_form_fields(meldForm)\n",
    "    meldungDictList.append(meldDict)"
   ]
  },
  {
   "cell_type": "code",
   "execution_count": null,
   "metadata": {},
   "outputs": [],
   "source": [
    "convertToDate('Geburtstag',meldungDictList[0])"
   ]
  },
  {
   "cell_type": "code",
   "execution_count": null,
   "metadata": {},
   "outputs": [],
   "source": [
    "df=pd.DataFrame(meldungDictList)\n",
    "df.head()"
   ]
  },
  {
   "cell_type": "code",
   "execution_count": null,
   "metadata": {},
   "outputs": [],
   "source": [
    "meldungenCsv='covid19.csv'\n",
    "df.to_csv(meldungPath + 'csv/' + meldungenCsv,sep=';')"
   ]
  },
  {
   "cell_type": "code",
   "execution_count": null,
   "metadata": {},
   "outputs": [],
   "source": [
    "import argparse\n",
    "\n",
    "if __name__ == \"__main__\":\n",
    "    parser=argparse.ArgumentParser(\n",
    "        description='''This Script reads a given set of PDF Forms for COVID19 Reporting from a folder and reads all Form Data and writes it to a csv file. ''',\n",
    "        epilog='''Please report problems and enhancements at https://github.com/lakay/COVID-19_PDF-Reporting. '''\n",
    "    )\n",
    "    parser.add_argument('-type','-ft','--ft', type=str, metavar='form type',default='am', help='am for Arzt Meldung, lm for Labor Meldung, tm for Todes Meldung')\n",
    "    parser.add_argument('-o','--o','-out', type=str,metavar='Output',default='../test-forms/covid19/csv/covid19.csv', help='Path and Filename for the output csv')\n",
    "    parser.add_argument('path', nargs=1, type=str, metavar='path', default='../test-forms/covid19/', help='pfad zu den PDF Formularen')\n",
    "    args=parser.parse_args()\n",
    "    \n",
    "    run_all()\n"
   ]
  }
 ]
}
