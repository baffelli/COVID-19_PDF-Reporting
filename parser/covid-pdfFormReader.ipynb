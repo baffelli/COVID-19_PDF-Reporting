{
 "nbformat": 4,
 "nbformat_minor": 2,
 "metadata": {
  "language_info": {
   "name": "python",
   "codemirror_mode": {
    "name": "ipython",
    "version": 3
   },
   "version": "3.7.5-final"
  },
  "orig_nbformat": 2,
  "file_extension": ".py",
  "mimetype": "text/x-python",
  "name": "python",
  "npconvert_exporter": "python",
  "pygments_lexer": "ipython3",
  "version": 3,
  "kernelspec": {
   "name": "python37564bit421c3922321440f49770c4a15a1c6064",
   "display_name": "Python 3.7.5 64-bit"
  }
 },
 "cells": [
  {
   "cell_type": "code",
   "execution_count": 2,
   "metadata": {},
   "outputs": [],
   "source": [
    "from collections import OrderedDict\n",
    "from PyPDF2 import PdfFileWriter, PdfFileReader\n",
    "\n",
    "\n",
    "def _getFields(obj, tree=None, retval=None, fileobj=None):\n",
    "    \"\"\"\n",
    "    Extracts field data if this PDF contains interactive form fields.\n",
    "    The *tree* and *retval* parameters are for recursive use.\n",
    "\n",
    "    :param fileobj: A file object (usually a text file) to write\n",
    "        a report to on all interactive form fields found.\n",
    "    :return: A dictionary where each key is a field name, and each\n",
    "        value is a :class:`Field<PyPDF2.generic.Field>` object. By\n",
    "        default, the mapping name is used for keys.\n",
    "    :rtype: dict, or ``None`` if form data could not be located.\n",
    "    \"\"\"\n",
    "    fieldAttributes = {'/FT': 'Field Type', '/Parent': 'Parent', '/T': 'Field Name', '/TU': 'Alternate Field Name',\n",
    "                       '/TM': 'Mapping Name', '/Ff': 'Field Flags', '/V': 'Value', '/DV': 'Default Value'}\n",
    "    if retval is None:\n",
    "        retval = OrderedDict()\n",
    "        catalog = obj.trailer[\"/Root\"]\n",
    "        # get the AcroForm tree\n",
    "        if \"/AcroForm\" in catalog:\n",
    "            tree = catalog[\"/AcroForm\"]\n",
    "        else:\n",
    "            return None\n",
    "    if tree is None:\n",
    "        return retval\n",
    "\n",
    "    obj._checkKids(tree, retval, fileobj)\n",
    "    for attr in fieldAttributes:\n",
    "        if attr in tree:\n",
    "            # Tree is a field\n",
    "            obj._buildField(tree, retval, fileobj, fieldAttributes)\n",
    "            break\n",
    "\n",
    "    if \"/Fields\" in tree:\n",
    "        fields = tree[\"/Fields\"]\n",
    "        for f in fields:\n",
    "            field = f.getObject()\n",
    "            obj._buildField(field, retval, fileobj, fieldAttributes)\n",
    "\n",
    "    return retval\n",
    "\n",
    "\n",
    "def get_form_fields(infile):\n",
    "    infile = PdfFileReader(open(infile, 'rb'))\n",
    "    fields = _getFields(infile)\n",
    "    return OrderedDict((k, v.get('/V', '')) for k, v in fields.items())"
   ]
  },
  {
   "cell_type": "code",
   "execution_count": 18,
   "metadata": {},
   "outputs": [],
   "source": [
    "def cleanAndReorderDict(oDict:OrderedDict) -> OrderedDict:\n",
    "    for key,value in oDict.items():\n",
    "        if('/True' in value):\n",
    "            \n",
    "        print(key,value)"
   ]
  },
  {
   "cell_type": "code",
   "execution_count": 4,
   "metadata": {},
   "outputs": [
    {
     "output_type": "stream",
     "name": "stdout",
     "text": "OrderedDict([('Nasenrachenabstrich', '/True'),\n             ('Mundrachenabstrich', ''),\n             ('Sputum', ''),\n             ('andere', '/True'),\n             ('PLZ', '3033'),\n             ('Arzt Auftraggeber',\n              b'Arzt\\rHinterkappellen Ring 111\\r3032 Hinterkappellen\\rTel 030 3'\n              b'33 33 33\\rFax 030 444 44 44'),\n             ('Meldendes Labor',\n              b'Labor Dieci\\rSchwarztorstrasse 123\\r3001 Bern\\rTel 030 555 55 5'\n              b'5\\rFax 030 666 66 66'),\n             ('Bemerkungen', 'keine Bemerkungen'),\n             ('Patient-in_Familenname', 'Cow'),\n             ('Patient-in_Vorname', 'Holy'),\n             ('Nachweis_Tag', '21'),\n             ('Nachweis_Monat', '03'),\n             ('Nachweis_Jahr', '2020'),\n             ('Andere_Entnahme', 'Augensekret'),\n             ('Endotracheale_Absaugung', '/True'),\n             ('Broncho-alveolaere_Lavage', ''),\n             ('Blut_Serologie', ''),\n             ('Patient-in_Strasse_Hausnummer', 'Weidestrasse 4'),\n             ('Entnahme_Tag', '19'),\n             ('Entnahme_Monat', '03'),\n             ('Entnahme_Jahr', '2020'),\n             ('Patient-in_Ort', 'Wohlen bei Bern'),\n             ('Patient-in_Telefonnummer', '079 898989898'),\n             ('Patient-in_Zustzangaben', 'keine'),\n             ('Geburt_Jahr', '1934'),\n             ('Geburt_Monat', '02'),\n             ('Geburt_Tag', '29'),\n             ('Meldung_Tag', '21'),\n             ('Meldung_Monat', '03'),\n             ('Meldung_Jahr', '2020'),\n             ('Neue Sequenzierungsmethode_Beschreibung',\n              'High throughput Sequencing'),\n             ('Andere_Methode_Beschreibung', 'keine'),\n             ('Patient-in_Geschlecht', '/w'),\n             ('Probe an CRIVENAVI in Genf weitergeleitet', '/True'),\n             ('ELISA-SARS-CoV-2-IgM', '/True'),\n             ('ELISA-SARS-CoV-2-IgG', '/True'),\n             ('ELISA-SARS-CoV-2-IgA', '/True'),\n             ('IFA-SARS-CoV-2-IgM', '/False'),\n             ('IFA-SARS-CoV-2-IgG', '/True'),\n             ('SARS-CoV-2-pseudovirus', '/False'),\n             ('Neue-Sequenzierungsmethode', '/True'),\n             ('Sequenz-analog-SARS-CoV-2', '/True'),\n             ('E-gene-target', '/True'),\n             ('RdRp-gene-target', '/False'),\n             ('N-gene-target', '/True')])\n"
    }
   ],
   "source": [
    "from pprint import pprint\n",
    "\n",
    "pdf_file_name = '../test-forms/labor_2hprotokoll_ncov2019_d_draft.pdf'\n",
    "labDict=get_form_fields(pdf_file_name)\n",
    "pprint(labDict)"
   ]
  },
  {
   "cell_type": "code",
   "execution_count": 5,
   "metadata": {},
   "outputs": [
    {
     "output_type": "stream",
     "name": "stdout",
     "text": "OrderedDict([('Kanton', 'BE'),\n             ('Telefonnummer', '030 954 63 72'),\n             ('Fieber', '/True'),\n             ('Husten', '/True'),\n             ('Atembeschwerden', '/True'),\n             ('Durchfall', '/True'),\n             ('ARDS', '/True'),\n             ('Pneumonie', '/True'),\n             ('Geburtstag_Tag', '12'),\n             ('Geburtstag_Monat', '11'),\n             ('Geburtstag_Jahr', '1989'),\n             ('Andere Symptome', '/True'),\n             ('Keine_Symptome', ''),\n             ('Diabetes', '/Yes'),\n             ('Herz-Kreislauf', '/Yes'),\n             ('Immunsuppression', '/Yes'),\n             ('Hypertonie', '/Yes'),\n             ('Atemwegserkrankung', '/Yes'),\n             ('Keine', ''),\n             ('Krebs', '/Yes'),\n             ('Andere_Symptome_Text', 'Kopfschmerz'),\n             ('Andere', '/Yes'),\n             ('Referenzlabor', '/Yes'),\n             ('Andere_Grunderkrankungen', 'starke Raucherin'),\n             ('Manifestation_Tag', '18'),\n             ('Manifestation_Monat', '03'),\n             ('Manifestation_Jahr', '2020'),\n             ('Anderes_Labor', ''),\n             ('Entnahme_Tag', '19'),\n             ('Entnahme_Monat', '03'),\n             ('Entnahme_Jahr', '2020'),\n             ('IPS', ''),\n             ('Beatmung', ''),\n             ('Anderes_Labor_text', ''),\n             ('Eintrittsdatum_Tag', '20'),\n             ('Eintrittsdatum_Monat', '03'),\n             ('Eintrittsdatum_Jahr', '2020'),\n             ('TF', '/Yes'),\n             ('Spital', b'Inselspital Bern\\rTel 030 548 44 44'),\n             ('TD_Tag', '22'),\n             ('TD_Monat', '03'),\n             ('TD_Jahr', '2020'),\n             ('Exposition_Tag', '13'),\n             ('Exposition_Monat', '03'),\n             ('Exposition_Jahr', '2020'),\n             ('Von_Tag', '06'),\n             ('Von_Monat', '03'),\n             ('Von_Jahr', '2020'),\n             ('Bemerkungen', 'Keine Bemerkungen'),\n             ('Bis_Tag', '16'),\n             ('Bis_Monat', '03'),\n             ('Bis_Jahr', '2020'),\n             ('Andere_Kontakte_text', ''),\n             ('Datum_Tag', '23'),\n             ('KA_Datum_Tag', '19'),\n             ('Datum_Monat', '03'),\n             ('KA_Datum_Monat', '03'),\n             ('Datum_Jahr', '2020'),\n             ('KA_Datum_Jahr', '2020'),\n             ('Arzt',\n              b'Arzt\\rHinterkappellenring 111\\r3032 Hinterkappellen\\rTel 030 45'\n              b'6 78 90\\rFax 030 546 87 09'),\n             ('Geschlecht', '/w'),\n             ('Nationalitaet', '/Andere'),\n             ('Andere_Nationalitaet', 'deutsch'),\n             ('Name_Vorname', 'Cow, Holy'),\n             ('Strasse_Hausnummer', 'Weidestrasse 12'),\n             ('PLZ_Wohnort', '3003 Bern'),\n             ('Wohnsitz_Land', ''),\n             ('Hospitalisierung', '/True'),\n             ('Kantonsarzt_Massnahmen', '/True'),\n             ('Kantonsarzt_Bemerkungen',\n              b'Arzt\\rHinterkappellenring 111\\r3032 Hinterkappellen\\rTel 030 45'\n              b'6 78 90\\rFax 030 546 87 09'),\n             ('Medizinpersonal', '/False'),\n             ('Bestaetiger-COVID-19_Kontakt', '/Familie'),\n             ('Exposition_Ort', '/Ausland'),\n             ('Exposition-Land_Text', 'Italien'),\n             ('Exposition-Ort_Text', 'Bergamo'),\n             ('Ausland_Aufenthalt_Dauer_unbekannt', ''),\n             ('Reise_mit_Infektion', '/True'),\n             ('Kontakt_Familie', '/Medizin-Pflege#20Personal'),\n             ('Kontakt_Medizinpersonal', ''),\n             ('Kontakt_Schule', '/Schule'),\n             ('Kontakt_Arbeit', ''),\n             ('Kontakt_Andere', ''),\n             ('Kantonsarzt_Massnahmen_Text', 'Isolation')])\n"
    }
   ],
   "source": [
    "pdf_file_name = '../test-forms/ncov2019_d_optimized_draft.pdf'\n",
    "meldDict=get_form_fields(pdf_file_name)\n",
    "pprint(meldDict)"
   ]
  },
  {
   "cell_type": "code",
   "execution_count": 19,
   "metadata": {},
   "outputs": [
    {
     "output_type": "stream",
     "name": "stdout",
     "text": "Kanton BE\nTelefonnummer 030 954 63 72\nFieber /True\nHusten /True\nAtembeschwerden /True\nDurchfall /True\nARDS /True\nPneumonie /True\nGeburtstag_Tag 12\nGeburtstag_Monat 11\nGeburtstag_Jahr 1989\nAndere Symptome /True\nKeine_Symptome \nDiabetes /Yes\nHerz-Kreislauf /Yes\nImmunsuppression /Yes\nHypertonie /Yes\nAtemwegserkrankung /Yes\nKeine \nKrebs /Yes\nAndere_Symptome_Text Kopfschmerz\nAndere /Yes\nReferenzlabor /Yes\nAndere_Grunderkrankungen starke Raucherin\nManifestation_Tag 18\nManifestation_Monat 03\nManifestation_Jahr 2020\nAnderes_Labor \nEntnahme_Tag 19\nEntnahme_Monat 03\nEntnahme_Jahr 2020\nIPS \nBeatmung \nAnderes_Labor_text \nEintrittsdatum_Tag 20\nEintrittsdatum_Monat 03\nEintrittsdatum_Jahr 2020\nTF /Yes\nSpital b'Inselspital Bern\\rTel 030 548 44 44'\nTD_Tag 22\nTD_Monat 03\nTD_Jahr 2020\nExposition_Tag 13\nExposition_Monat 03\nExposition_Jahr 2020\nVon_Tag 06\nVon_Monat 03\nVon_Jahr 2020\nBemerkungen Keine Bemerkungen\nBis_Tag 16\nBis_Monat 03\nBis_Jahr 2020\nAndere_Kontakte_text \nDatum_Tag 23\nKA_Datum_Tag 19\nDatum_Monat 03\nKA_Datum_Monat 03\nDatum_Jahr 2020\nKA_Datum_Jahr 2020\nArzt b'Arzt\\rHinterkappellenring 111\\r3032 Hinterkappellen\\rTel 030 456 78 90\\rFax 030 546 87 09'\nGeschlecht /w\nNationalitaet /Andere\nAndere_Nationalitaet deutsch\nName_Vorname Cow, Holy\nStrasse_Hausnummer Weidestrasse 12\nPLZ_Wohnort 3003 Bern\nWohnsitz_Land \nHospitalisierung /True\nKantonsarzt_Massnahmen /True\nKantonsarzt_Bemerkungen b'Arzt\\rHinterkappellenring 111\\r3032 Hinterkappellen\\rTel 030 456 78 90\\rFax 030 546 87 09'\nMedizinpersonal /False\nBestaetiger-COVID-19_Kontakt /Familie\nExposition_Ort /Ausland\nExposition-Land_Text Italien\nExposition-Ort_Text Bergamo\nAusland_Aufenthalt_Dauer_unbekannt \nReise_mit_Infektion /True\nKontakt_Familie /Medizin-Pflege#20Personal\nKontakt_Medizinpersonal \nKontakt_Schule /Schule\nKontakt_Arbeit \nKontakt_Andere \nKantonsarzt_Massnahmen_Text Isolation\n"
    }
   ],
   "source": [
    "cleanAndReorderDict(meldDict)"
   ]
  },
  {
   "cell_type": "code",
   "execution_count": 15,
   "metadata": {},
   "outputs": [
    {
     "output_type": "execute_result",
     "data": {
      "text/plain": "  Kanton  Telefonnummer Fieber Husten Atembeschwerden Durchfall   ARDS  \\\n0     BE  030 954 63 72  /True  /True           /True     /True  /True   \n\n  Pneumonie Geburtstag_Tag Geburtstag_Monat  ... Exposition-Land_Text  \\\n0     /True             12               11  ...              Italien   \n\n  Exposition-Ort_Text Ausland_Aufenthalt_Dauer_unbekannt Reise_mit_Infektion  \\\n0             Bergamo                                                  /True   \n\n              Kontakt_Familie Kontakt_Medizinpersonal Kontakt_Schule  \\\n0  /Medizin-Pflege#20Personal                                /Schule   \n\n  Kontakt_Arbeit Kontakt_Andere Kantonsarzt_Massnahmen_Text  \n0                                                 Isolation  \n\n[1 rows x 83 columns]",
      "text/html": "<div>\n<style scoped>\n    .dataframe tbody tr th:only-of-type {\n        vertical-align: middle;\n    }\n\n    .dataframe tbody tr th {\n        vertical-align: top;\n    }\n\n    .dataframe thead th {\n        text-align: right;\n    }\n</style>\n<table border=\"1\" class=\"dataframe\">\n  <thead>\n    <tr style=\"text-align: right;\">\n      <th></th>\n      <th>Kanton</th>\n      <th>Telefonnummer</th>\n      <th>Fieber</th>\n      <th>Husten</th>\n      <th>Atembeschwerden</th>\n      <th>Durchfall</th>\n      <th>ARDS</th>\n      <th>Pneumonie</th>\n      <th>Geburtstag_Tag</th>\n      <th>Geburtstag_Monat</th>\n      <th>...</th>\n      <th>Exposition-Land_Text</th>\n      <th>Exposition-Ort_Text</th>\n      <th>Ausland_Aufenthalt_Dauer_unbekannt</th>\n      <th>Reise_mit_Infektion</th>\n      <th>Kontakt_Familie</th>\n      <th>Kontakt_Medizinpersonal</th>\n      <th>Kontakt_Schule</th>\n      <th>Kontakt_Arbeit</th>\n      <th>Kontakt_Andere</th>\n      <th>Kantonsarzt_Massnahmen_Text</th>\n    </tr>\n  </thead>\n  <tbody>\n    <tr>\n      <th>0</th>\n      <td>BE</td>\n      <td>030 954 63 72</td>\n      <td>/True</td>\n      <td>/True</td>\n      <td>/True</td>\n      <td>/True</td>\n      <td>/True</td>\n      <td>/True</td>\n      <td>12</td>\n      <td>11</td>\n      <td>...</td>\n      <td>Italien</td>\n      <td>Bergamo</td>\n      <td></td>\n      <td>/True</td>\n      <td>/Medizin-Pflege#20Personal</td>\n      <td></td>\n      <td>/Schule</td>\n      <td></td>\n      <td></td>\n      <td>Isolation</td>\n    </tr>\n  </tbody>\n</table>\n<p>1 rows × 83 columns</p>\n</div>"
     },
     "metadata": {},
     "execution_count": 15
    }
   ],
   "source": [
    "import pandas as pd\n",
    "\n",
    "df=pd.DataFrame(meldDict,columns=meldDict.keys(),index=[0])\n",
    "df.head()"
   ]
  },
  {
   "cell_type": "code",
   "execution_count": null,
   "metadata": {},
   "outputs": [],
   "source": []
  }
 ]
}