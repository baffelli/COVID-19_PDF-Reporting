{
 "nbformat": 4,
 "nbformat_minor": 2,
 "metadata": {
  "language_info": {
   "name": "python",
   "codemirror_mode": {
    "name": "ipython",
    "version": 3
   },
   "version": "3.7.5-final"
  },
  "orig_nbformat": 2,
  "file_extension": ".py",
  "mimetype": "text/x-python",
  "name": "python",
  "npconvert_exporter": "python",
  "pygments_lexer": "ipython3",
  "version": 3,
  "kernelspec": {
   "name": "python37564bit421c3922321440f49770c4a15a1c6064",
   "display_name": "Python 3.7.5 64-bit"
  }
 },
 "cells": [
  {
   "cell_type": "code",
   "execution_count": 1,
   "metadata": {},
   "outputs": [],
   "source": [
    "from collections import OrderedDict\n",
    "from PyPDF2 import PdfFileWriter, PdfFileReader\n",
    "from os import listdir\n",
    "from os.path import isfile, join\n",
    "from pprint import pprint\n",
    "import pandas as pd\n",
    "\n",
    "def _getFields(obj, tree=None, retval=None, fileobj=None):\n",
    "    \"\"\"\n",
    "    Extracts field data if this PDF contains interactive form fields.\n",
    "    The *tree* and *retval* parameters are for recursive use.\n",
    "\n",
    "    :param fileobj: A file object (usually a text file) to write\n",
    "        a report to on all interactive form fields found.\n",
    "    :return: A dictionary where each key is a field name, and each\n",
    "        value is a :class:`Field<PyPDF2.generic.Field>` object. By\n",
    "        default, the mapping name is used for keys.\n",
    "    :rtype: dict, or ``None`` if form data could not be located.\n",
    "    \"\"\"\n",
    "    fieldAttributes = {'/FT': 'Field Type', '/Parent': 'Parent', '/T': 'Field Name', '/TU': 'Alternate Field Name',\n",
    "                       '/TM': 'Mapping Name', '/Ff': 'Field Flags', '/V': 'Value', '/DV': 'Default Value'}\n",
    "    if retval is None:\n",
    "        retval = OrderedDict()\n",
    "        catalog = obj.trailer[\"/Root\"]\n",
    "        # get the AcroForm tree\n",
    "        if \"/AcroForm\" in catalog:\n",
    "            tree = catalog[\"/AcroForm\"]\n",
    "        else:\n",
    "            return None\n",
    "    if tree is None:\n",
    "        return retval\n",
    "\n",
    "    obj._checkKids(tree, retval, fileobj)\n",
    "    for attr in fieldAttributes:\n",
    "        if attr in tree:\n",
    "            # Tree is a field\n",
    "            obj._buildField(tree, retval, fileobj, fieldAttributes)\n",
    "            break\n",
    "\n",
    "    if \"/Fields\" in tree:\n",
    "        fields = tree[\"/Fields\"]\n",
    "        for f in fields:\n",
    "            field = f.getObject()\n",
    "            obj._buildField(field, retval, fileobj, fieldAttributes)\n",
    "\n",
    "    return retval\n",
    "\n",
    "\n",
    "def get_form_fields(infile):\n",
    "    infile = PdfFileReader(open(infile, 'rb'))\n",
    "    fields = _getFields(infile)\n",
    "    return OrderedDict((k, v.get('/V', '')) for k, v in fields.items())"
   ]
  },
  {
   "cell_type": "code",
   "execution_count": 2,
   "metadata": {},
   "outputs": [],
   "source": [
    "def cleanAndReorderDict(oDict:OrderedDict) -> OrderedDict:\n",
    "    for key,value in oDict.items():\n",
    "        \n",
    "        if('/True' in value):\n",
    "            value=True\n",
    "        if('/False' in value):\n",
    "            value=False\n",
    "        print(key,value)"
   ]
  },
  {
   "cell_type": "code",
   "execution_count": 6,
   "metadata": {},
   "outputs": [],
   "source": [
    "\n",
    "def getAllForms(mypath):\n",
    "    allForms = []\n",
    "    onlyfiles = [f for f in listdir(mypath) if isfile(join(mypath, f))]\n",
    "\n",
    "    for currentFile in onlyfiles:\n",
    "        if '.pdf' in currentFile:\n",
    "            allForms.append(mypath + currentFile)\n",
    "    return allForms"
   ]
  },
  {
   "cell_type": "code",
   "execution_count": 16,
   "metadata": {},
   "outputs": [
    {
     "output_type": "stream",
     "name": "stdout",
     "text": "OrderedDict([('Nachweis_Tag', ''),\n             ('Nachweis_Monat', ''),\n             ('Nachweis_Jahr', ''),\n             ('Entnahme_Tag', ''),\n             ('Entnahme_Monat', ''),\n             ('Entnahme_Jahr', ''),\n             ('Nasenrachenabstrich', ''),\n             ('Mundrachenabstrich', ''),\n             ('Sputum', ''),\n             ('Endotracheale_Absaugung', ''),\n             ('Broncho-alveolaere_Lavage', ''),\n             ('Blut_Serologie', ''),\n             ('andere', ''),\n             ('Andere_Entnahme', ''),\n             ('E-gene-target', ''),\n             ('ELISA-SARS-CoV-2-IgM', ''),\n             ('RdRp-gene-target', ''),\n             ('ELISA-SARS-CoV-2-IgG', ''),\n             ('N-gene-target', ''),\n             ('ELISA-SARS-CoV-2-IgA', ''),\n             ('Neue-Sequenzierungsmethode', ''),\n             ('IFA-SARS-CoV-2-IgM', ''),\n             ('Neue Sequenzierungsmethode_Beschreibung', ''),\n             ('IFA-SARS-CoV-2-IgG', ''),\n             ('Sequenz-analog-SARS-CoV-2', ''),\n             ('SARS-CoV-2-pseudovirus', ''),\n             ('Andere_Methode_Beschreibung', ''),\n             ('Bemerkungen', ''),\n             ('Patient-in_Familenname', ''),\n             ('Patient-in_Vorname', ''),\n             ('Geburt_Tag', ''),\n             ('Geburt_Monat', ''),\n             ('Geburt_Jahr', ''),\n             ('Patient-in_Geschlecht', ''),\n             ('Patient-in_Strasse_Hausnummer', ''),\n             ('Patient-in_Telefonnummer', ''),\n             ('Patient-in_Ort', ''),\n             ('PLZ', ''),\n             ('Patient-in_Zustzangaben', ''),\n             ('Arzt Auftraggeber', ''),\n             ('Meldendes Labor', ''),\n             ('Meldung_Tag', ''),\n             ('Meldung_Monat', ''),\n             ('Meldung_Jahr', ''),\n             ('Probe an CRIVENAVI in Genf weitergeleitet', '')])\n"
    }
   ],
   "source": [
    "labPath= '../test-forms/labor_covid19/'\n",
    "formsLabList = getAllForms(labPath)\n",
    "for labForm in formsLabList:\n",
    "    labDict=get_form_fields(labForm)\n",
    "    pprint(labDict)"
   ]
  },
  {
   "cell_type": "code",
   "execution_count": 19,
   "metadata": {},
   "outputs": [
    {
     "output_type": "stream",
     "name": "stdout",
     "text": "OrderedDict([('Geschlecht', '/w'),\n             ('Telefonnummer', '030 853 99 86'),\n             ('Kanton', 'BE'),\n             ('Geburtstag_Monat', '11'),\n             ('Geburtstag_Jahr', '2020'),\n             ('PLZ_Wohnort', '3003 Bern'),\n             ('Name_Vorname', 'Cow, Holy'),\n             ('Geburtstag_Tag', '12'),\n             ('Strasse_Hausnummer', 'Weidestrasse 112'),\n             ('Nationalitaet', '/Andere'),\n             ('Andere_Nationalitaet', 'deutsch'),\n             ('Wohnsitz_Land', ''),\n             ('Fieber', '/True'),\n             ('Husten', '/True'),\n             ('Atembeschwerden', '/True'),\n             ('Pneumonie', '/True'),\n             ('ARDS', '/True'),\n             ('Andere Symptome', '/True'),\n             ('Durchfall', '/True'),\n             ('Andere_Symptome_Text', 'Kopfschmerz'),\n             ('Manifestation_Jahr', '2020'),\n             ('Manifestation_Tag', '16'),\n             ('Manifestation_Monat', '03'),\n             ('Keine_Symptome', ''),\n             ('Immunsuppression', '/Yes'),\n             ('Diabetes', '/Yes'),\n             ('Herz-Kreislauf', '/Yes'),\n             ('Krebs', '/Yes'),\n             ('Hypertonie', '/Yes'),\n             ('Atemwegserkrankung', '/Yes'),\n             ('Andere_Grunderkrankungen', 'Raucher'),\n             ('Keine', ''),\n             ('Andere', '/Yes'),\n             ('Anderes_Labor_text', ''),\n             ('Referenzlabor', '/Yes'),\n             ('Anderes_Labor', ''),\n             ('Entnahme_Tag', '19'),\n             ('Entnahme_Monat', '03'),\n             ('Entnahme_Jahr', '2020'),\n             ('Hospitalisierung', '/True'),\n             ('Eintrittsdatum_Tag', '19'),\n             ('Eintrittsdatum_Monat', '03'),\n             ('Eintrittsdatum_Jahr', '2020'),\n             ('Beatmung', '/Yes'),\n             ('IPS', '/Yes'),\n             ('TF', '/Yes'),\n             ('TD_Tag', '21'),\n             ('TD_Monat', '03'),\n             ('TD_Jahr', '2020'),\n             ('Spital_Tel', 'Inselspital BE, Tel 030 544 66 88'),\n             ('Spital_Name', ''),\n             ('Exposition_Ort', '/Ausland'),\n             ('Exposition-Land_Text', 'Italien'),\n             ('Exposition-Ort_Text', 'Bergamo'),\n             ('Exposition_Tag', '13'),\n             ('Exposition_Monat', '03'),\n             ('Exposition_Jahr', '2020'),\n             ('Von_Tag', '10'),\n             ('Von_Monat', '03'),\n             ('Von_Jahr', '2020'),\n             ('Bis_Tag', '17'),\n             ('Bis_Monat', '03'),\n             ('Bis_Jahr', '2020'),\n             ('Ausland_Aufenthalt_Dauer_unbekannt', ''),\n             ('Bestaetiger-COVID-19_Kontakt', '/Familie'),\n             ('Kontakt_Medizinpersonal', '/Yes'),\n             ('Kontakt_Familie', '/Medizin-Pflege#20Personal'),\n             ('Kontakt_Schule', '/Schule'),\n             ('Kontakt_Andere', '/Andere#20Kontakte'),\n             ('Kontakt_Arbeit', '/Arbeit'),\n             ('Andere_Kontakte_text', 'Zugfahrt'),\n             ('Reise_mit_Infektion', '/True'),\n             ('Medizinpersonal', '/False'),\n             ('Bemerkungen', 'Verstorben auf IPS '),\n             ('Arzt',\n              b'Arzt\\rHinterkappellenring 111\\r3032 Hinterkappellen \\rTel 030 5'\n              b'44 67 86\\rFax 030 577 65 45'),\n             ('Datum_Tag', '22'),\n             ('Datum_Monat', '03'),\n             ('Datum_Jahr', '2020'),\n             ('Kantonsarzt_Massnahmen_Text', ''),\n             ('Kantonsarzt_Massnahmen', '/False'),\n             ('Kantonsarzt_Bemerkungen', 'KA'),\n             ('KA_Datum_Tag', '20'),\n             ('KA_Datum_Monat', '03'),\n             ('KA_Datum_Jahr', '2020')])\nOrderedDict([('Geschlecht', '/w'),\n             ('Telefonnummer', '030 853 99 86'),\n             ('Kanton', 'BE'),\n             ('Geburtstag_Monat', '11'),\n             ('Geburtstag_Jahr', '2020'),\n             ('PLZ_Wohnort', '3003 Bern'),\n             ('Name_Vorname', 'Cow, Holy'),\n             ('Geburtstag_Tag', '12'),\n             ('Strasse_Hausnummer', 'Weidestrasse 112'),\n             ('Nationalitaet', '/Andere'),\n             ('Andere_Nationalitaet', 'deutsch'),\n             ('Wohnsitz_Land', ''),\n             ('Fieber', '/True'),\n             ('Husten', '/True'),\n             ('Atembeschwerden', '/True'),\n             ('Pneumonie', '/True'),\n             ('ARDS', '/True'),\n             ('Andere Symptome', '/True'),\n             ('Durchfall', '/True'),\n             ('Andere_Symptome_Text', 'Kopfschmerz'),\n             ('Manifestation_Jahr', '2020'),\n             ('Manifestation_Tag', '16'),\n             ('Manifestation_Monat', '03'),\n             ('Keine_Symptome', ''),\n             ('Immunsuppression', '/Yes'),\n             ('Diabetes', '/Yes'),\n             ('Herz-Kreislauf', '/Yes'),\n             ('Krebs', '/Yes'),\n             ('Hypertonie', '/Yes'),\n             ('Atemwegserkrankung', '/Yes'),\n             ('Andere_Grunderkrankungen', 'Raucher'),\n             ('Keine', ''),\n             ('Andere', '/Yes'),\n             ('Anderes_Labor_text', ''),\n             ('Referenzlabor', '/Yes'),\n             ('Anderes_Labor', ''),\n             ('Entnahme_Tag', '19'),\n             ('Entnahme_Monat', '03'),\n             ('Entnahme_Jahr', '2020'),\n             ('Hospitalisierung', '/True'),\n             ('Eintrittsdatum_Tag', '19'),\n             ('Eintrittsdatum_Monat', '03'),\n             ('Eintrittsdatum_Jahr', '2020'),\n             ('Beatmung', '/Yes'),\n             ('IPS', '/Yes'),\n             ('TF', '/Yes'),\n             ('TD_Tag', '21'),\n             ('TD_Monat', '03'),\n             ('TD_Jahr', '2020'),\n             ('Spital_Tel', 'Inselspital BE, Tel 030 544 66 88'),\n             ('Spital_Name', ''),\n             ('Exposition_Ort', '/Ausland'),\n             ('Exposition-Land_Text', 'Italien'),\n             ('Exposition-Ort_Text', 'Bergamo'),\n             ('Exposition_Tag', '13'),\n             ('Exposition_Monat', '03'),\n             ('Exposition_Jahr', '2020'),\n             ('Von_Tag', '10'),\n             ('Von_Monat', '03'),\n             ('Von_Jahr', '2020'),\n             ('Bis_Tag', '17'),\n             ('Bis_Monat', '03'),\n             ('Bis_Jahr', '2020'),\n             ('Ausland_Aufenthalt_Dauer_unbekannt', ''),\n             ('Bestaetiger-COVID-19_Kontakt', '/Familie'),\n             ('Kontakt_Medizinpersonal', '/Yes'),\n             ('Kontakt_Familie', '/Medizin-Pflege#20Personal'),\n             ('Kontakt_Schule', '/Schule'),\n             ('Kontakt_Andere', '/Andere#20Kontakte'),\n             ('Kontakt_Arbeit', '/Arbeit'),\n             ('Andere_Kontakte_text', 'Zugfahrt'),\n             ('Reise_mit_Infektion', '/True'),\n             ('Medizinpersonal', '/False'),\n             ('Bemerkungen', 'Verstorben auf IPS '),\n             ('Arzt',\n              b'Arzt\\rHinterkappellenring 111\\r3032 Hinterkappellen \\rTel 030 5'\n              b'44 67 86\\rFax 030 577 65 45'),\n             ('Datum_Tag', '22'),\n             ('Datum_Monat', '03'),\n             ('Datum_Jahr', '2020'),\n             ('Kantonsarzt_Massnahmen_Text', ''),\n             ('Kantonsarzt_Massnahmen', '/False'),\n             ('Kantonsarzt_Bemerkungen', 'KA'),\n             ('KA_Datum_Tag', '20'),\n             ('KA_Datum_Monat', '03'),\n             ('KA_Datum_Jahr', '2020')])\n"
    }
   ],
   "source": [
    "meldungPath='../test-forms/covid19/'\n",
    "formsMeldungList = getAllForms(meldungPath)\n",
    "meldungDictList=[]\n",
    "for meldForm in formsMeldungList:\n",
    "    meldDict=get_form_fields(meldForm)\n",
    "    meldungDictList.append(meldDict)\n",
    "    pprint(meldDict)"
   ]
  },
  {
   "cell_type": "code",
   "execution_count": 19,
   "metadata": {},
   "outputs": [
    {
     "output_type": "stream",
     "name": "stdout",
     "text": "Kanton BE\nTelefonnummer 030 954 63 72\nFieber /True\nHusten /True\nAtembeschwerden /True\nDurchfall /True\nARDS /True\nPneumonie /True\nGeburtstag_Tag 12\nGeburtstag_Monat 11\nGeburtstag_Jahr 1989\nAndere Symptome /True\nKeine_Symptome \nDiabetes /Yes\nHerz-Kreislauf /Yes\nImmunsuppression /Yes\nHypertonie /Yes\nAtemwegserkrankung /Yes\nKeine \nKrebs /Yes\nAndere_Symptome_Text Kopfschmerz\nAndere /Yes\nReferenzlabor /Yes\nAndere_Grunderkrankungen starke Raucherin\nManifestation_Tag 18\nManifestation_Monat 03\nManifestation_Jahr 2020\nAnderes_Labor \nEntnahme_Tag 19\nEntnahme_Monat 03\nEntnahme_Jahr 2020\nIPS \nBeatmung \nAnderes_Labor_text \nEintrittsdatum_Tag 20\nEintrittsdatum_Monat 03\nEintrittsdatum_Jahr 2020\nTF /Yes\nSpital b'Inselspital Bern\\rTel 030 548 44 44'\nTD_Tag 22\nTD_Monat 03\nTD_Jahr 2020\nExposition_Tag 13\nExposition_Monat 03\nExposition_Jahr 2020\nVon_Tag 06\nVon_Monat 03\nVon_Jahr 2020\nBemerkungen Keine Bemerkungen\nBis_Tag 16\nBis_Monat 03\nBis_Jahr 2020\nAndere_Kontakte_text \nDatum_Tag 23\nKA_Datum_Tag 19\nDatum_Monat 03\nKA_Datum_Monat 03\nDatum_Jahr 2020\nKA_Datum_Jahr 2020\nArzt b'Arzt\\rHinterkappellenring 111\\r3032 Hinterkappellen\\rTel 030 456 78 90\\rFax 030 546 87 09'\nGeschlecht /w\nNationalitaet /Andere\nAndere_Nationalitaet deutsch\nName_Vorname Cow, Holy\nStrasse_Hausnummer Weidestrasse 12\nPLZ_Wohnort 3003 Bern\nWohnsitz_Land \nHospitalisierung /True\nKantonsarzt_Massnahmen /True\nKantonsarzt_Bemerkungen b'Arzt\\rHinterkappellenring 111\\r3032 Hinterkappellen\\rTel 030 456 78 90\\rFax 030 546 87 09'\nMedizinpersonal /False\nBestaetiger-COVID-19_Kontakt /Familie\nExposition_Ort /Ausland\nExposition-Land_Text Italien\nExposition-Ort_Text Bergamo\nAusland_Aufenthalt_Dauer_unbekannt \nReise_mit_Infektion /True\nKontakt_Familie /Medizin-Pflege#20Personal\nKontakt_Medizinpersonal \nKontakt_Schule /Schule\nKontakt_Arbeit \nKontakt_Andere \nKantonsarzt_Massnahmen_Text Isolation\n"
    }
   ],
   "source": [
    "cleanAndReorderDict(meldDict)"
   ]
  },
  {
   "cell_type": "code",
   "execution_count": 18,
   "metadata": {},
   "outputs": [
    {
     "output_type": "execute_result",
     "data": {
      "text/plain": "  Geschlecht  Telefonnummer Kanton Geburtstag_Monat Geburtstag_Jahr  \\\n0         /w  030 853 99 86     BE               11            2020   \n1         /w  030 853 99 86     BE               11            2020   \n\n  PLZ_Wohnort Name_Vorname Geburtstag_Tag Strasse_Hausnummer Nationalitaet  \\\n0   3003 Bern    Cow, Holy             12   Weidestrasse 112       /Andere   \n1   3003 Bern    Cow, Holy             12   Weidestrasse 112       /Andere   \n\n   ...                                               Arzt Datum_Tag  \\\n0  ...  b'Arzt\\rHinterkappellenring 111\\r3032 Hinterka...        22   \n1  ...  b'Arzt\\rHinterkappellenring 111\\r3032 Hinterka...        22   \n\n  Datum_Monat Datum_Jahr Kantonsarzt_Massnahmen_Text Kantonsarzt_Massnahmen  \\\n0          03       2020                                             /False   \n1          03       2020                                             /False   \n\n  Kantonsarzt_Bemerkungen KA_Datum_Tag KA_Datum_Monat KA_Datum_Jahr  \n0                      KA           20             03          2020  \n1                      KA           20             03          2020  \n\n[2 rows x 84 columns]",
      "text/html": "<div>\n<style scoped>\n    .dataframe tbody tr th:only-of-type {\n        vertical-align: middle;\n    }\n\n    .dataframe tbody tr th {\n        vertical-align: top;\n    }\n\n    .dataframe thead th {\n        text-align: right;\n    }\n</style>\n<table border=\"1\" class=\"dataframe\">\n  <thead>\n    <tr style=\"text-align: right;\">\n      <th></th>\n      <th>Geschlecht</th>\n      <th>Telefonnummer</th>\n      <th>Kanton</th>\n      <th>Geburtstag_Monat</th>\n      <th>Geburtstag_Jahr</th>\n      <th>PLZ_Wohnort</th>\n      <th>Name_Vorname</th>\n      <th>Geburtstag_Tag</th>\n      <th>Strasse_Hausnummer</th>\n      <th>Nationalitaet</th>\n      <th>...</th>\n      <th>Arzt</th>\n      <th>Datum_Tag</th>\n      <th>Datum_Monat</th>\n      <th>Datum_Jahr</th>\n      <th>Kantonsarzt_Massnahmen_Text</th>\n      <th>Kantonsarzt_Massnahmen</th>\n      <th>Kantonsarzt_Bemerkungen</th>\n      <th>KA_Datum_Tag</th>\n      <th>KA_Datum_Monat</th>\n      <th>KA_Datum_Jahr</th>\n    </tr>\n  </thead>\n  <tbody>\n    <tr>\n      <th>0</th>\n      <td>/w</td>\n      <td>030 853 99 86</td>\n      <td>BE</td>\n      <td>11</td>\n      <td>2020</td>\n      <td>3003 Bern</td>\n      <td>Cow, Holy</td>\n      <td>12</td>\n      <td>Weidestrasse 112</td>\n      <td>/Andere</td>\n      <td>...</td>\n      <td>b'Arzt\\rHinterkappellenring 111\\r3032 Hinterka...</td>\n      <td>22</td>\n      <td>03</td>\n      <td>2020</td>\n      <td></td>\n      <td>/False</td>\n      <td>KA</td>\n      <td>20</td>\n      <td>03</td>\n      <td>2020</td>\n    </tr>\n    <tr>\n      <th>1</th>\n      <td>/w</td>\n      <td>030 853 99 86</td>\n      <td>BE</td>\n      <td>11</td>\n      <td>2020</td>\n      <td>3003 Bern</td>\n      <td>Cow, Holy</td>\n      <td>12</td>\n      <td>Weidestrasse 112</td>\n      <td>/Andere</td>\n      <td>...</td>\n      <td>b'Arzt\\rHinterkappellenring 111\\r3032 Hinterka...</td>\n      <td>22</td>\n      <td>03</td>\n      <td>2020</td>\n      <td></td>\n      <td>/False</td>\n      <td>KA</td>\n      <td>20</td>\n      <td>03</td>\n      <td>2020</td>\n    </tr>\n  </tbody>\n</table>\n<p>2 rows × 84 columns</p>\n</div>"
     },
     "metadata": {},
     "execution_count": 18
    }
   ],
   "source": [
    "df=pd.DataFrame(meldungDictList)\n",
    "df.head()"
   ]
  },
  {
   "cell_type": "code",
   "execution_count": 21,
   "metadata": {},
   "outputs": [],
   "source": [
    "meldungenCsv='covid19.csv'\n",
    "df.to_csv(meldungPath + 'csv/' + meldungenCsv,sep=';')"
   ]
  },
  {
   "cell_type": "code",
   "execution_count": null,
   "metadata": {},
   "outputs": [],
   "source": []
  }
 ]
}