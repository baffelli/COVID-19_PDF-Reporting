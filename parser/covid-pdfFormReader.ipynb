{
 "nbformat": 4,
 "nbformat_minor": 2,
 "metadata": {
  "language_info": {
   "name": "python",
   "codemirror_mode": {
    "name": "ipython",
    "version": 3
   },
   "version": "3.7.5-final"
  },
  "orig_nbformat": 2,
  "file_extension": ".py",
  "mimetype": "text/x-python",
  "name": "python",
  "npconvert_exporter": "python",
  "pygments_lexer": "ipython3",
  "version": 3,
  "kernelspec": {
   "name": "python37564bit421c3922321440f49770c4a15a1c6064",
   "display_name": "Python 3.7.5 64-bit"
  }
 },
 "cells": [
  {
   "cell_type": "code",
   "execution_count": 1,
   "metadata": {},
   "outputs": [],
   "source": [
    "from collections import OrderedDict\n",
    "from PyPDF2 import PdfFileWriter, PdfFileReader\n",
    "\n",
    "\n",
    "def _getFields(obj, tree=None, retval=None, fileobj=None):\n",
    "    \"\"\"\n",
    "    Extracts field data if this PDF contains interactive form fields.\n",
    "    The *tree* and *retval* parameters are for recursive use.\n",
    "\n",
    "    :param fileobj: A file object (usually a text file) to write\n",
    "        a report to on all interactive form fields found.\n",
    "    :return: A dictionary where each key is a field name, and each\n",
    "        value is a :class:`Field<PyPDF2.generic.Field>` object. By\n",
    "        default, the mapping name is used for keys.\n",
    "    :rtype: dict, or ``None`` if form data could not be located.\n",
    "    \"\"\"\n",
    "    fieldAttributes = {'/FT': 'Field Type', '/Parent': 'Parent', '/T': 'Field Name', '/TU': 'Alternate Field Name',\n",
    "                       '/TM': 'Mapping Name', '/Ff': 'Field Flags', '/V': 'Value', '/DV': 'Default Value'}\n",
    "    if retval is None:\n",
    "        retval = OrderedDict()\n",
    "        catalog = obj.trailer[\"/Root\"]\n",
    "        # get the AcroForm tree\n",
    "        if \"/AcroForm\" in catalog:\n",
    "            tree = catalog[\"/AcroForm\"]\n",
    "        else:\n",
    "            return None\n",
    "    if tree is None:\n",
    "        return retval\n",
    "\n",
    "    obj._checkKids(tree, retval, fileobj)\n",
    "    for attr in fieldAttributes:\n",
    "        if attr in tree:\n",
    "            # Tree is a field\n",
    "            obj._buildField(tree, retval, fileobj, fieldAttributes)\n",
    "            break\n",
    "\n",
    "    if \"/Fields\" in tree:\n",
    "        fields = tree[\"/Fields\"]\n",
    "        for f in fields:\n",
    "            field = f.getObject()\n",
    "            obj._buildField(field, retval, fileobj, fieldAttributes)\n",
    "\n",
    "    return retval\n",
    "\n",
    "\n",
    "def get_form_fields(infile):\n",
    "    infile = PdfFileReader(open(infile, 'rb'))\n",
    "    fields = _getFields(infile)\n",
    "    return OrderedDict((k, v.get('/V', '')) for k, v in fields.items())"
   ]
  },
  {
   "cell_type": "code",
   "execution_count": 3,
   "metadata": {},
   "outputs": [
    {
     "output_type": "stream",
     "name": "stdout",
     "text": "OrderedDict([('Nasenrachenabstrich', '/True'),\n             ('Mundrachenabstrich', ''),\n             ('Sputum', ''),\n             ('andere', '/True'),\n             ('PLZ', '3033'),\n             ('Arzt Auftraggeber',\n              b'Arzt\\rHinterkappellen Ring 111\\r3032 Hinterkappellen\\rTel 030 3'\n              b'33 33 33\\rFax 030 444 44 44'),\n             ('Meldendes Labor',\n              b'Labor Dieci\\rSchwarztorstrasse 123\\r3001 Bern\\rTel 030 555 55 5'\n              b'5\\rFax 030 666 66 66'),\n             ('Bemerkungen', 'keine Bemerkungen'),\n             ('Patient-in_Familenname', 'Cow'),\n             ('Patient-in_Vorname', 'Holy'),\n             ('Nachweis_Tag', '21'),\n             ('Nachweis_Monat', '03'),\n             ('Nachweis_Jahr', '2020'),\n             ('Andere_Entnahme', 'Augensekret'),\n             ('Endotracheale_Absaugung', '/True'),\n             ('Broncho-alveolaere_Lavage', ''),\n             ('Blut_Serologie', ''),\n             ('Patient-in_Strasse_Hausnummer', 'Weidestrasse 4'),\n             ('Entnahme_Tag', '19'),\n             ('Entnahme_Monat', '03'),\n             ('Entnahme_Jahr', '2020'),\n             ('Patient-in_Ort', 'Wohlen bei Bern'),\n             ('Patient-in_Telefonnummer', '079 898989898'),\n             ('Patient-in_Zustzangaben', 'keine'),\n             ('Geburt_Jahr', '1934'),\n             ('Geburt_Monat', '02'),\n             ('Geburt_Tag', '29'),\n             ('Meldung_Tag', '21'),\n             ('Meldung_Monat', '03'),\n             ('Meldung_Jahr', '2020'),\n             ('Neue Sequenzierungsmethode_Beschreibung',\n              'High throughput Sequencing'),\n             ('Andere_Methode_Beschreibung', 'keine'),\n             ('Patient-in_Geschlecht', '/w'),\n             ('Probe an CRIVENAVI in Genf weitergeleitet', '/True'),\n             ('ELISA-SARS-CoV-2-IgM', '/True'),\n             ('ELISA-SARS-CoV-2-IgG', '/True'),\n             ('ELISA-SARS-CoV-2-IgA', '/True'),\n             ('IFA-SARS-CoV-2-IgM', '/False'),\n             ('IFA-SARS-CoV-2-IgG', '/True'),\n             ('SARS-CoV-2-pseudovirus', '/False'),\n             ('Neue-Sequenzierungsmethode', '/True'),\n             ('Sequenz-analog-SARS-CoV-2', '/True'),\n             ('E-gene-target', '/True'),\n             ('RdRp-gene-target', '/False'),\n             ('N-gene-target', '/True')])\n"
    }
   ],
   "source": [
    "from pprint import pprint\n",
    "\n",
    "pdf_file_name = '../test-forms/labor_2hprotokoll_ncov2019_d_draft.pdf'\n",
    "labDict=get_form_fields(pdf_file_name)\n",
    "pprint(labDict)"
   ]
  },
  {
   "cell_type": "code",
   "execution_count": 4,
   "metadata": {},
   "outputs": [
    {
     "output_type": "stream",
     "name": "stdout",
     "text": "OrderedDict([('Kanton', 'BE'),\n             ('Telefonnummer', '030 865 41 07'),\n             ('Fieber', '/True'),\n             ('Husten', '/True'),\n             ('Atembeschwerden', '/True'),\n             ('Durchfall', '/True'),\n             ('ARDS', '/True'),\n             ('Pneumonie', '/True'),\n             ('Geburtstag_Tag', '12'),\n             ('Geburtstag_Monat', '03'),\n             ('Geburtstag_Jahr', '1989'),\n             ('Andere Symptome', '/True'),\n             ('Keine_Symptome', ''),\n             ('Diabetes', '/Yes'),\n             ('Herz-Kreislauf', ''),\n             ('Immunsuppression', '/Yes'),\n             ('Hypertonie', ''),\n             ('Atemwegserkrankung', ''),\n             ('Keine', ''),\n             ('Krebs', ''),\n             ('Andere_Symptome_Text', 'Kopfschmerz'),\n             ('Andere', '/Yes'),\n             ('Referenzlabor', '/Yes'),\n             ('Andere_Grunderkrankungen', 'HIV'),\n             ('Manifestation_Tag', '18'),\n             ('Manifestation_Monat', '03'),\n             ('Manifestation_Jahr', '2020'),\n             ('Anderes_Labor', ''),\n             ('Entnahme_Tag', '20'),\n             ('Entnahme_Monat', '03'),\n             ('Entnahme_Jahr', '2020'),\n             ('IPS', '/Yes'),\n             ('Beatmung', '/Yes'),\n             ('Anderes_Labor_text', ''),\n             ('Eintrittsdatum_Tag', '20'),\n             ('Eintrittsdatum_Monat', '03'),\n             ('Eintrittsdatum_Jahr', '2020'),\n             ('TF', ''),\n             ('Spital', 'Inselspital, 030 899 99 99'),\n             ('TD_Tag', ''),\n             ('TD_Monat', ''),\n             ('TD_Jahr', ''),\n             ('Exposition_Tag', '13'),\n             ('Exposition_Monat', '03'),\n             ('Exposition_Jahr', '2020'),\n             ('Von_Tag', ''),\n             ('Von_Monat', ''),\n             ('Von_Jahr', ''),\n             ('Bemerkungen', 'Schneller und schwerer Krankheitsverlauf'),\n             ('Bis_Tag', ''),\n             ('Bis_Monat', ''),\n             ('Bis_Jahr', ''),\n             ('Andere_Kontakte_text', ''),\n             ('Datum_Tag', '20'),\n             ('KA_Datum_Tag', '19'),\n             ('Datum_Monat', '03'),\n             ('KA_Datum_Monat', '03'),\n             ('Datum_Jahr', '2020'),\n             ('KA_Datum_Jahr', '2020'),\n             ('Arzt',\n              b'Arzt\\rHinterkappellenring 123\\r3032 Hinterkappellen\\rTel 030 24'\n              b'3 54 65\\rFax 030 243 55 55'),\n             ('Geschlecht', '/w'),\n             ('Nationalitaet', '/CH'),\n             ('Andere_Nationalitaet', ''),\n             ('Name_Vorname', 'Cow, Holy'),\n             ('Strasse_Hausnummer', 'Weidestrasse 11'),\n             ('PLZ_Wohnort', '3001 Bern'),\n             ('Wohnsitz_Land', ''),\n             ('Hospitalisierung', '/True'),\n             ('Kantonsarzt_Massnahmen', '/True'),\n             ('Kantonsarz_Massnahmen_Text', 'Meldung ans BAG'),\n             ('Kantonsarzt_Bemerkungen', 'gemeldet'),\n             ('Medizinpersonal', '/False'),\n             ('Bestaetiger-COVID-19_Kontakt', '/Familie'),\n             ('Kontakt_Art', '/Medizin-Pflege#20Personal'),\n             ('Exposition_Ort', '/CH'),\n             ('Exposition-Land_Text', ''),\n             ('Exposition-Ort_Text', ''),\n             ('Ausland_Aufenthalt_Dauer_unbekannt', ''),\n             ('Reise_mit_Infektion', '/False')])\n"
    }
   ],
   "source": [
    "pdf_file_name = '../test-forms/ncov2019_d_optimized_draft.pdf'\n",
    "meldDict=get_form_fields(pdf_file_name)\n",
    "pprint(meldDict)"
   ]
  },
  {
   "cell_type": "code",
   "execution_count": null,
   "metadata": {},
   "outputs": [],
   "source": []
  }
 ]
}